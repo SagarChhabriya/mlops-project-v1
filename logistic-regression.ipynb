{
 "cells": [
  {
   "cell_type": "markdown",
   "id": "e9c78c83-1aec-4d06-b80b-2ab703343c27",
   "metadata": {},
   "source": [
    "# Logistic Regression Binary Classification\n",
    "\n",
    "- Logistic Regression Visualizer: https://regression-logistic.streamlit.app/\n",
    "- Churn Prediction App: https://churnr.streamlit.app/"
   ]
  },
  {
   "cell_type": "markdown",
   "id": "edf21890",
   "metadata": {},
   "source": [
    "### 1. Loading packages and data"
   ]
  },
  {
   "cell_type": "code",
   "execution_count": 2,
   "id": "fe6ed462",
   "metadata": {},
   "outputs": [],
   "source": [
    "# Load packages \n",
    "import os\n",
    "import numpy as np \n",
    "import pandas as pd\n",
    "import matplotlib.pyplot as plt\n",
    "import seaborn as sns\n",
    "import joblib\n",
    "from sklearn.model_selection import train_test_split, StratifiedKFold\n",
    "from sklearn.linear_model import LogisticRegression\n",
    "from sklearn.metrics import (\n",
    "    accuracy_score,\n",
    "    confusion_matrix,\n",
    "    precision_score,\n",
    "    recall_score,\n",
    "    RocCurveDisplay,\n",
    "    roc_auc_score,\n",
    "    roc_curve,\n",
    "    classification_report\n",
    ")\n",
    "from sklearn.model_selection import RandomizedSearchCV\n",
    "from sklearn.preprocessing import StandardScaler\n",
    "from scipy.stats import loguniform, uniform\n",
    "\n",
    "import warnings\n",
    "warnings.filterwarnings('ignore')\n",
    "\n",
    "# For Local WANDB\n",
    "os.environ[\"WANDB_AGENT_DISABLE_FLAPPING\"] = \"true\"\n",
    "\n",
    "\n"
   ]
  },
  {
   "cell_type": "code",
   "execution_count": 3,
   "id": "1077d4ee",
   "metadata": {},
   "outputs": [
    {
     "name": "stdout",
     "output_type": "stream",
     "text": [
      "Dataset shape: (3150, 9)\n",
      "Columns: ['Call  Failure', 'Complains', 'Subscription  Length', 'Charge  Amount', 'Seconds of Use', 'Frequency of SMS', 'Distinct Called Numbers', 'Age', 'Churn']\n"
     ]
    },
    {
     "data": {
      "text/html": [
       "<div>\n",
       "<style scoped>\n",
       "    .dataframe tbody tr th:only-of-type {\n",
       "        vertical-align: middle;\n",
       "    }\n",
       "\n",
       "    .dataframe tbody tr th {\n",
       "        vertical-align: top;\n",
       "    }\n",
       "\n",
       "    .dataframe thead th {\n",
       "        text-align: right;\n",
       "    }\n",
       "</style>\n",
       "<table border=\"1\" class=\"dataframe\">\n",
       "  <thead>\n",
       "    <tr style=\"text-align: right;\">\n",
       "      <th></th>\n",
       "      <th>Call  Failure</th>\n",
       "      <th>Complains</th>\n",
       "      <th>Subscription  Length</th>\n",
       "      <th>Charge  Amount</th>\n",
       "      <th>Seconds of Use</th>\n",
       "      <th>Frequency of SMS</th>\n",
       "      <th>Distinct Called Numbers</th>\n",
       "      <th>Age</th>\n",
       "      <th>Churn</th>\n",
       "    </tr>\n",
       "  </thead>\n",
       "  <tbody>\n",
       "    <tr>\n",
       "      <th>0</th>\n",
       "      <td>8</td>\n",
       "      <td>0</td>\n",
       "      <td>38</td>\n",
       "      <td>0</td>\n",
       "      <td>4370</td>\n",
       "      <td>5</td>\n",
       "      <td>17</td>\n",
       "      <td>30</td>\n",
       "      <td>0</td>\n",
       "    </tr>\n",
       "    <tr>\n",
       "      <th>1</th>\n",
       "      <td>0</td>\n",
       "      <td>0</td>\n",
       "      <td>39</td>\n",
       "      <td>0</td>\n",
       "      <td>318</td>\n",
       "      <td>7</td>\n",
       "      <td>4</td>\n",
       "      <td>25</td>\n",
       "      <td>0</td>\n",
       "    </tr>\n",
       "    <tr>\n",
       "      <th>2</th>\n",
       "      <td>10</td>\n",
       "      <td>0</td>\n",
       "      <td>37</td>\n",
       "      <td>0</td>\n",
       "      <td>2453</td>\n",
       "      <td>359</td>\n",
       "      <td>24</td>\n",
       "      <td>30</td>\n",
       "      <td>0</td>\n",
       "    </tr>\n",
       "    <tr>\n",
       "      <th>3</th>\n",
       "      <td>10</td>\n",
       "      <td>0</td>\n",
       "      <td>38</td>\n",
       "      <td>0</td>\n",
       "      <td>4198</td>\n",
       "      <td>1</td>\n",
       "      <td>35</td>\n",
       "      <td>15</td>\n",
       "      <td>0</td>\n",
       "    </tr>\n",
       "    <tr>\n",
       "      <th>4</th>\n",
       "      <td>3</td>\n",
       "      <td>0</td>\n",
       "      <td>38</td>\n",
       "      <td>0</td>\n",
       "      <td>2393</td>\n",
       "      <td>2</td>\n",
       "      <td>33</td>\n",
       "      <td>15</td>\n",
       "      <td>0</td>\n",
       "    </tr>\n",
       "  </tbody>\n",
       "</table>\n",
       "</div>"
      ],
      "text/plain": [
       "   Call  Failure  Complains  Subscription  Length  Charge  Amount  \\\n",
       "0              8          0                    38               0   \n",
       "1              0          0                    39               0   \n",
       "2             10          0                    37               0   \n",
       "3             10          0                    38               0   \n",
       "4              3          0                    38               0   \n",
       "\n",
       "   Seconds of Use  Frequency of SMS  Distinct Called Numbers  Age  Churn  \n",
       "0            4370                 5                       17   30      0  \n",
       "1             318                 7                        4   25      0  \n",
       "2            2453               359                       24   30      0  \n",
       "3            4198                 1                       35   15      0  \n",
       "4            2393                 2                       33   15      0  "
      ]
     },
     "execution_count": 3,
     "metadata": {},
     "output_type": "execute_result"
    }
   ],
   "source": [
    "# Load dataset\n",
    "df = pd.read_csv(\"customer_churn.csv\")\n",
    "print(f\"Dataset shape: {df.shape}\")\n",
    "print(f\"Columns: {df.columns.tolist()}\")\n",
    "df.head()"
   ]
  },
  {
   "cell_type": "code",
   "execution_count": 4,
   "id": "1a16beb9",
   "metadata": {},
   "outputs": [],
   "source": [
    "# Split features/target\n",
    "X = df.drop(columns=[\"Churn\"])\n",
    "y = df[\"Churn\"]"
   ]
  },
  {
   "cell_type": "code",
   "execution_count": 5,
   "id": "40790f0a",
   "metadata": {},
   "outputs": [
    {
     "name": "stdout",
     "output_type": "stream",
     "text": [
      "Feature names after cleaning: ['Call Failure', 'Complains', 'Subscription Length', 'Charge Amount', 'Seconds of Use', 'Frequency of SMS', 'Distinct Called Numbers', 'Age']\n"
     ]
    }
   ],
   "source": [
    "# Fix feature names - remove extra spaces and standardize\n",
    "X.columns = X.columns.str.strip().str.replace('  ', ' ')\n",
    "print(\"Feature names after cleaning:\", X.columns.tolist())"
   ]
  },
  {
   "cell_type": "markdown",
   "id": "6f3b8cda",
   "metadata": {},
   "source": [
    "### Initialize W&B \n",
    "Initialize a new run by calling wandb.init()"
   ]
  },
  {
   "cell_type": "code",
   "execution_count": null,
   "id": "165e0395",
   "metadata": {},
   "outputs": [
    {
     "name": "stderr",
     "output_type": "stream",
     "text": [
      "\u001b[34m\u001b[1mwandb\u001b[0m: Currently logged in as: \u001b[33msagar-chhabriya\u001b[0m (\u001b[33msagar-chhabriya-sukkur-iba-university\u001b[0m) to \u001b[32mhttps://api.wandb.ai\u001b[0m. Use \u001b[1m`wandb login --relogin`\u001b[0m to force relogin\n"
     ]
    }
   ],
   "source": [
    "import wandb\n",
    "wandb.login()  # You’ll paste your API key once\n",
    "PROJECT = \"mlops-project-v1\""
   ]
  },
  {
   "cell_type": "markdown",
   "id": "1e6b0372",
   "metadata": {},
   "source": [
    "#### Log dataset as W&B Artifact\n"
   ]
  },
  {
   "cell_type": "code",
   "execution_count": 7,
   "id": "ff9f1248",
   "metadata": {},
   "outputs": [
    {
     "data": {
      "text/html": [],
      "text/plain": [
       "<IPython.core.display.HTML object>"
      ]
     },
     "metadata": {},
     "output_type": "display_data"
    },
    {
     "data": {
      "text/html": [
       "Tracking run with wandb version 0.22.2"
      ],
      "text/plain": [
       "<IPython.core.display.HTML object>"
      ]
     },
     "metadata": {},
     "output_type": "display_data"
    },
    {
     "data": {
      "text/html": [
       "Run data is saved locally in <code>d:\\Ao\\Code\\mlops-project-v1\\wandb\\run-20251016_200329-qsm9meu5</code>"
      ],
      "text/plain": [
       "<IPython.core.display.HTML object>"
      ]
     },
     "metadata": {},
     "output_type": "display_data"
    },
    {
     "data": {
      "text/html": [
       "Syncing run <strong><a href='https://wandb.ai/sagar-chhabriya-sukkur-iba-university/mlops-project-v1/runs/qsm9meu5' target=\"_blank\">sparkling-deluge-1</a></strong> to <a href='https://wandb.ai/sagar-chhabriya-sukkur-iba-university/mlops-project-v1' target=\"_blank\">Weights & Biases</a> (<a href='https://wandb.me/developer-guide' target=\"_blank\">docs</a>)<br>"
      ],
      "text/plain": [
       "<IPython.core.display.HTML object>"
      ]
     },
     "metadata": {},
     "output_type": "display_data"
    },
    {
     "data": {
      "text/html": [
       " View project at <a href='https://wandb.ai/sagar-chhabriya-sukkur-iba-university/mlops-project-v1' target=\"_blank\">https://wandb.ai/sagar-chhabriya-sukkur-iba-university/mlops-project-v1</a>"
      ],
      "text/plain": [
       "<IPython.core.display.HTML object>"
      ]
     },
     "metadata": {},
     "output_type": "display_data"
    },
    {
     "data": {
      "text/html": [
       " View run at <a href='https://wandb.ai/sagar-chhabriya-sukkur-iba-university/mlops-project-v1/runs/qsm9meu5' target=\"_blank\">https://wandb.ai/sagar-chhabriya-sukkur-iba-university/mlops-project-v1/runs/qsm9meu5</a>"
      ],
      "text/plain": [
       "<IPython.core.display.HTML object>"
      ]
     },
     "metadata": {},
     "output_type": "display_data"
    },
    {
     "data": {
      "text/html": [],
      "text/plain": [
       "<IPython.core.display.HTML object>"
      ]
     },
     "metadata": {},
     "output_type": "display_data"
    },
    {
     "data": {
      "text/html": [
       " View run <strong style=\"color:#cdcd00\">sparkling-deluge-1</strong> at: <a href='https://wandb.ai/sagar-chhabriya-sukkur-iba-university/mlops-project-v1/runs/qsm9meu5' target=\"_blank\">https://wandb.ai/sagar-chhabriya-sukkur-iba-university/mlops-project-v1/runs/qsm9meu5</a><br> View project at: <a href='https://wandb.ai/sagar-chhabriya-sukkur-iba-university/mlops-project-v1' target=\"_blank\">https://wandb.ai/sagar-chhabriya-sukkur-iba-university/mlops-project-v1</a><br>Synced 5 W&B file(s), 0 media file(s), 2 artifact file(s) and 0 other file(s)"
      ],
      "text/plain": [
       "<IPython.core.display.HTML object>"
      ]
     },
     "metadata": {},
     "output_type": "display_data"
    },
    {
     "data": {
      "text/html": [
       "Find logs at: <code>.\\wandb\\run-20251016_200329-qsm9meu5\\logs</code>"
      ],
      "text/plain": [
       "<IPython.core.display.HTML object>"
      ]
     },
     "metadata": {},
     "output_type": "display_data"
    }
   ],
   "source": [
    "dataset_artifact = wandb.Artifact(\n",
    "    name=\"customer-churn-dataset\",\n",
    "    type=\"dataset\",\n",
    "    description=\"Telecom churn dataset for classification project\",\n",
    "    metadata={\n",
    "        \"rows\": df.shape[0],\n",
    "        \"features\": list(X.columns),\n",
    "        \"target\": \"Churn\",\n",
    "        \"missing_values\": df.isnull().sum().to_dict(),\n",
    "        \"data_types\": df.dtypes.apply(lambda x: str(x)).to_dict(),\n",
    "        \"source\": \"customer_churn.csv\"\n",
    "    }\n",
    ")\n",
    "dataset_artifact.add_file(\"customer_churn.csv\")\n",
    "run = wandb.init(project=PROJECT, job_type=\"data-versioning\") # return_previous for reinit\n",
    "wandb.log_artifact(dataset_artifact)\n",
    "run.finish()\n"
   ]
  },
  {
   "cell_type": "markdown",
   "id": "cf836f5d",
   "metadata": {},
   "source": [
    "### Baseline Model"
   ]
  },
  {
   "cell_type": "code",
   "execution_count": 8,
   "id": "b268064a",
   "metadata": {},
   "outputs": [
    {
     "data": {
      "text/html": [],
      "text/plain": [
       "<IPython.core.display.HTML object>"
      ]
     },
     "metadata": {},
     "output_type": "display_data"
    },
    {
     "data": {
      "text/html": [
       "Tracking run with wandb version 0.22.2"
      ],
      "text/plain": [
       "<IPython.core.display.HTML object>"
      ]
     },
     "metadata": {},
     "output_type": "display_data"
    },
    {
     "data": {
      "text/html": [
       "Run data is saved locally in <code>d:\\Ao\\Code\\mlops-project-v1\\wandb\\run-20251016_201217-zpqyno4i</code>"
      ],
      "text/plain": [
       "<IPython.core.display.HTML object>"
      ]
     },
     "metadata": {},
     "output_type": "display_data"
    },
    {
     "data": {
      "text/html": [
       "Syncing run <strong><a href='https://wandb.ai/sagar-chhabriya-sukkur-iba-university/mlops-project-v1/runs/zpqyno4i' target=\"_blank\">decent-jazz-2</a></strong> to <a href='https://wandb.ai/sagar-chhabriya-sukkur-iba-university/mlops-project-v1' target=\"_blank\">Weights & Biases</a> (<a href='https://wandb.me/developer-guide' target=\"_blank\">docs</a>)<br>"
      ],
      "text/plain": [
       "<IPython.core.display.HTML object>"
      ]
     },
     "metadata": {},
     "output_type": "display_data"
    },
    {
     "data": {
      "text/html": [
       " View project at <a href='https://wandb.ai/sagar-chhabriya-sukkur-iba-university/mlops-project-v1' target=\"_blank\">https://wandb.ai/sagar-chhabriya-sukkur-iba-university/mlops-project-v1</a>"
      ],
      "text/plain": [
       "<IPython.core.display.HTML object>"
      ]
     },
     "metadata": {},
     "output_type": "display_data"
    },
    {
     "data": {
      "text/html": [
       " View run at <a href='https://wandb.ai/sagar-chhabriya-sukkur-iba-university/mlops-project-v1/runs/zpqyno4i' target=\"_blank\">https://wandb.ai/sagar-chhabriya-sukkur-iba-university/mlops-project-v1/runs/zpqyno4i</a>"
      ],
      "text/plain": [
       "<IPython.core.display.HTML object>"
      ]
     },
     "metadata": {},
     "output_type": "display_data"
    },
    {
     "name": "stderr",
     "output_type": "stream",
     "text": [
      "\u001b[34m\u001b[1mwandb\u001b[0m: Adding directory to artifact (models)... Done. 0.1s\n"
     ]
    },
    {
     "name": "stdout",
     "output_type": "stream",
     "text": [
      "Baseline Performance\n",
      "baseline_accuracy: 0.9032\n",
      "baseline_roc_auc: 0.9052\n",
      "baseline_precision: 0.9130\n",
      "baseline_recall: 0.4242\n"
     ]
    },
    {
     "data": {
      "text/html": [],
      "text/plain": [
       "<IPython.core.display.HTML object>"
      ]
     },
     "metadata": {},
     "output_type": "display_data"
    },
    {
     "data": {
      "text/html": [
       "<br>    <style><br>        .wandb-row {<br>            display: flex;<br>            flex-direction: row;<br>            flex-wrap: wrap;<br>            justify-content: flex-start;<br>            width: 100%;<br>        }<br>        .wandb-col {<br>            display: flex;<br>            flex-direction: column;<br>            flex-basis: 100%;<br>            flex: 1;<br>            padding: 10px;<br>        }<br>    </style><br><div class=\"wandb-row\"><div class=\"wandb-col\"><h3>Run history:</h3><br/><table class=\"wandb\"><tr><td>baseline_accuracy</td><td>▁</td></tr><tr><td>baseline_precision</td><td>▁</td></tr><tr><td>baseline_recall</td><td>▁</td></tr><tr><td>baseline_roc_auc</td><td>▁</td></tr></table><br/></div><div class=\"wandb-col\"><h3>Run summary:</h3><br/><table class=\"wandb\"><tr><td>baseline_accuracy</td><td>0.90317</td></tr><tr><td>baseline_precision</td><td>0.91304</td></tr><tr><td>baseline_recall</td><td>0.42424</td></tr><tr><td>baseline_roc_auc</td><td>0.90521</td></tr></table><br/></div></div>"
      ],
      "text/plain": [
       "<IPython.core.display.HTML object>"
      ]
     },
     "metadata": {},
     "output_type": "display_data"
    },
    {
     "data": {
      "text/html": [
       " View run <strong style=\"color:#cdcd00\">decent-jazz-2</strong> at: <a href='https://wandb.ai/sagar-chhabriya-sukkur-iba-university/mlops-project-v1/runs/zpqyno4i' target=\"_blank\">https://wandb.ai/sagar-chhabriya-sukkur-iba-university/mlops-project-v1/runs/zpqyno4i</a><br> View project at: <a href='https://wandb.ai/sagar-chhabriya-sukkur-iba-university/mlops-project-v1' target=\"_blank\">https://wandb.ai/sagar-chhabriya-sukkur-iba-university/mlops-project-v1</a><br>Synced 5 W&B file(s), 0 media file(s), 4 artifact file(s) and 0 other file(s)"
      ],
      "text/plain": [
       "<IPython.core.display.HTML object>"
      ]
     },
     "metadata": {},
     "output_type": "display_data"
    },
    {
     "data": {
      "text/html": [
       "Find logs at: <code>.\\wandb\\run-20251016_201217-zpqyno4i\\logs</code>"
      ],
      "text/plain": [
       "<IPython.core.display.HTML object>"
      ]
     },
     "metadata": {},
     "output_type": "display_data"
    }
   ],
   "source": [
    "run = wandb.init(project=PROJECT, job_type=\"baseline\")\n",
    "\n",
    "# Split and scale\n",
    "X_train, X_test, y_train, y_test = train_test_split(X, y, test_size=0.2, random_state=42, stratify=y)\n",
    "scaler = StandardScaler()\n",
    "X_train = scaler.fit_transform(X_train)\n",
    "X_test = scaler.transform(X_test)\n",
    "\n",
    "# Train baseline model\n",
    "baseline_model = LogisticRegression(max_iter=1000, random_state=42)\n",
    "baseline_model.fit(X_train, y_train)\n",
    "\n",
    "# Evaluate\n",
    "y_pred = baseline_model.predict(X_test)\n",
    "y_prob = baseline_model.predict_proba(X_test)[:, 1]\n",
    "\n",
    "metrics = {\n",
    "    \"baseline_accuracy\": accuracy_score(y_test, y_pred),\n",
    "    \"baseline_roc_auc\": roc_auc_score(y_test, y_prob),\n",
    "    \"baseline_precision\": precision_score(y_test, y_pred),\n",
    "    \"baseline_recall\": recall_score(y_test, y_pred)\n",
    "}\n",
    "wandb.log(metrics)\n",
    "\n",
    "print(\"Baseline Performance\")\n",
    "for k, v in metrics.items():\n",
    "    print(f\"{k}: {v:.4f}\")\n",
    "\n",
    "# Save and log as model artifact\n",
    "os.makedirs(\"models\", exist_ok=True)\n",
    "joblib.dump(baseline_model, \"models/logistic_regression_baseline.pkl\")\n",
    "joblib.dump(scaler, \"models/scaler.pkl\")\n",
    "joblib.dump(list(X.columns), \"models/feature_names.pkl\")\n",
    "\n",
    "baseline_artifact = wandb.Artifact(\n",
    "    name=\"logistic-regression-baseline\",\n",
    "    type=\"model\",\n",
    "    description=\"Baseline Logistic Regression for churn prediction\",\n",
    "    metadata=metrics\n",
    ")\n",
    "baseline_artifact.add_dir(\"models\")\n",
    "wandb.log_artifact(baseline_artifact)\n",
    "\n",
    "run.finish()\n"
   ]
  },
  {
   "cell_type": "markdown",
   "id": "ded985d3",
   "metadata": {},
   "source": [
    "### Define Sweep Configuration"
   ]
  },
  {
   "cell_type": "code",
   "execution_count": 9,
   "id": "85794ffa",
   "metadata": {},
   "outputs": [
    {
     "name": "stdout",
     "output_type": "stream",
     "text": [
      "Create sweep with ID: 1a4hnfg7\n",
      "Sweep URL: https://wandb.ai/sagar-chhabriya-sukkur-iba-university/mlops-project-v1/sweeps/1a4hnfg7\n",
      "Created Sweep: 1a4hnfg7\n"
     ]
    }
   ],
   "source": [
    "sweep_config = {\n",
    "    \"method\": \"random\",\n",
    "    \"metric\": {\"name\": \"val_roc_auc\", \"goal\": \"maximize\"},\n",
    "    \"parameters\": {\n",
    "        \"C\": {\"distribution\": \"log_uniform_values\", \"min\": 1e-4, \"max\": 1e4},\n",
    "        \"penalty\": {\"values\": [ \"elasticnet\"]}, # \"l1\", \"l2\"\n",
    "        \"solver\": {\"values\": [\"saga\"]}, # \"liblinear\", \"lbfgs\"\n",
    "        \"max_iter\": {\"values\": [100, 200, 500]},\n",
    "        \"l1_ratio\": {\"distribution\": \"uniform\", \"min\": 0.0, \"max\": 1.0}\n",
    "    }\n",
    "}\n",
    "sweep_id = wandb.sweep(sweep_config, project=PROJECT)\n",
    "print(f\"Created Sweep: {sweep_id}\")\n"
   ]
  },
  {
   "cell_type": "markdown",
   "id": "1ead1378",
   "metadata": {},
   "source": [
    "### Sweep Training Function"
   ]
  },
  {
   "cell_type": "code",
   "execution_count": 10,
   "id": "3a5c15a9",
   "metadata": {},
   "outputs": [],
   "source": [
    "# For Local Env: VSCode, etc\n",
    "os.environ[\"WANDB_NOTEBOOK_NAME\"] = \"ignore\"       # Disable IPython display mode\n",
    "os.environ[\"WANDB_SILENT\"] = \"true\"                # Suppress HTML output\n",
    "\n",
    "def sweep_train():\n",
    "    run = wandb.init(project=PROJECT)\n",
    "    config = wandb.config\n",
    "\n",
    "    # Split again (for standalone sweep runs)\n",
    "    X_train, X_test, y_train, y_test = train_test_split(X, y, test_size=0.2, random_state=42, stratify=y)\n",
    "    scaler = StandardScaler()\n",
    "    X_train = scaler.fit_transform(X_train)\n",
    "    X_test = scaler.transform(X_test)\n",
    "\n",
    "    model = LogisticRegression(\n",
    "        C=config.C,\n",
    "        penalty=config.penalty,\n",
    "        solver=config.solver,\n",
    "        max_iter=config.max_iter,\n",
    "        l1_ratio=config.l1_ratio if \"elasticnet\" in config.penalty else None,\n",
    "        random_state=42\n",
    "    )\n",
    "\n",
    "    model.fit(X_train, y_train)\n",
    "    y_pred = model.predict(X_test)\n",
    "    y_prob = model.predict_proba(X_test)[:, 1]\n",
    "\n",
    "    wandb.log({\n",
    "        \"val_accuracy\": accuracy_score(y_test, y_pred),\n",
    "        \"val_roc_auc\": roc_auc_score(y_test, y_prob),\n",
    "        \"val_precision\": precision_score(y_test, y_pred),\n",
    "        \"val_recall\": recall_score(y_test, y_pred)\n",
    "    })\n"
   ]
  },
  {
   "cell_type": "markdown",
   "id": "ce5ea6cc",
   "metadata": {},
   "source": [
    "### Run the Sweep"
   ]
  },
  {
   "cell_type": "code",
   "execution_count": 11,
   "id": "41c7da28",
   "metadata": {},
   "outputs": [
    {
     "name": "stderr",
     "output_type": "stream",
     "text": [
      "\u001b[34m\u001b[1mwandb\u001b[0m: Agent Starting Run: p772cqv1 with config:\n",
      "\u001b[34m\u001b[1mwandb\u001b[0m: \tC: 378.302698965983\n",
      "\u001b[34m\u001b[1mwandb\u001b[0m: \tl1_ratio: 0.2624570977527203\n",
      "\u001b[34m\u001b[1mwandb\u001b[0m: \tmax_iter: 500\n",
      "\u001b[34m\u001b[1mwandb\u001b[0m: \tpenalty: elasticnet\n",
      "\u001b[34m\u001b[1mwandb\u001b[0m: \tsolver: saga\n",
      "\u001b[34m\u001b[1mwandb\u001b[0m: \u001b[33mWARNING\u001b[0m WANDB_NOTEBOOK_NAME should be a path to a notebook file, couldn't find ignore.\n"
     ]
    }
   ],
   "source": [
    "wandb.agent(sweep_id, function=sweep_train, count=5)"
   ]
  },
  {
   "cell_type": "markdown",
   "id": "2de68cb5",
   "metadata": {},
   "source": [
    "### Log Best Model (After Sweep)"
   ]
  },
  {
   "cell_type": "code",
   "execution_count": 12,
   "id": "86a6a5fd",
   "metadata": {},
   "outputs": [],
   "source": [
    "run = wandb.init(project=PROJECT, job_type=\"model-tuning\")\n",
    "\n",
    "# Assume you've retrained locally with best params (from W&B summary)\n",
    "\n",
    "best_model = LogisticRegression(\n",
    "    C=378.30,\n",
    "    penalty=\"elasticnet\",\n",
    "    solver=\"saga\",\n",
    "    l1_ratio=0.2624,\n",
    "    max_iter=500,\n",
    "    random_state=42\n",
    ")\n",
    "best_model.fit(X_train, y_train)\n",
    "\n",
    "# Save and log tuned model\n",
    "joblib.dump(best_model, \"models/logistic_regression_tuned.pkl\")\n",
    "\n",
    "tuned_artifact = wandb.Artifact(\n",
    "    name=\"logistic-regression-tuned\",\n",
    "    type=\"model\",\n",
    "    description=\"Tuned Logistic Regression via W&B Sweep\",\n",
    "    metadata={\"source_sweep\": sweep_id}\n",
    ")\n",
    "tuned_artifact.add_dir(\"models\")\n",
    "wandb.log_artifact(tuned_artifact)\n",
    "wandb.run.link_artifact(tuned_artifact, \"mlops-capstone/logistic-regression-model:latest\")\n",
    "\n",
    "run.finish()\n"
   ]
  },
  {
   "cell_type": "code",
   "execution_count": null,
   "id": "11174723",
   "metadata": {},
   "outputs": [],
   "source": []
  },
  {
   "cell_type": "code",
   "execution_count": null,
   "metadata": {},
   "outputs": [],
   "source": []
  },
  {
   "cell_type": "code",
   "execution_count": null,
   "id": "5cd3ef98",
   "metadata": {},
   "outputs": [],
   "source": []
  }
 ],
 "metadata": {
  "editor": "DataCamp Workspace",
  "kernelspec": {
   "display_name": "venv",
   "language": "python",
   "name": "python3"
  },
  "language_info": {
   "codemirror_mode": {
    "name": "ipython",
    "version": 3
   },
   "file_extension": ".py",
   "mimetype": "text/x-python",
   "name": "python",
   "nbconvert_exporter": "python",
   "pygments_lexer": "ipython3",
   "version": "3.12.0"
  }
 },
 "nbformat": 4,
 "nbformat_minor": 5
}
